{
 "cells": [
  {
   "cell_type": "markdown",
   "metadata": {},
   "source": [
    "Notebook about vehicle data exploration:"
   ]
  },
  {
   "cell_type": "markdown",
   "metadata": {},
   "source": [
    "1. `log` - Log information from which the data was extracted.\n",
    "2. `sensor` - A specific sensor type.\n",
    "3. `calibrated sensor` - Definition of a particular sensor as calibrated on a particular vehicle.\n",
    "4. `map` - Map data that is stored as binary semantic masks from a top-down view."
   ]
  },
  {
   "cell_type": "code",
   "execution_count": null,
   "metadata": {},
   "outputs": [
    {
     "name": "stderr",
     "output_type": "stream",
     "text": [
      "Connecting to www.nuscenes.org (108.158.147.64:443)\n",
      "wget: can't open 'v1.0-mini.tgz': File exists\n"
     ]
    }
   ],
   "source": [
    "#%%bash\n",
    "#mkdir -p /data/sets/nuscenes  # Make the directory to store the nuScenes dataset in.\n",
    "#wget https://www.nuscenes.org/data/v1.0-mini.tgz  # Download the nuScenes mini split.\n",
    "#tar -xf v1.0-mini.tgz -C /data/sets/nuscenes  # Uncompress the nuScenes mini split.\n",
    "#pip install nuscenes-devkit &> /dev/null  # Install nuScenes."
   ]
  },
  {
   "cell_type": "markdown",
   "metadata": {},
   "source": [
    "### Global variables"
   ]
  },
  {
   "cell_type": "code",
   "execution_count": 1,
   "metadata": {},
   "outputs": [
    {
     "name": "stdout",
     "output_type": "stream",
     "text": [
      "======\n",
      "Loading NuScenes tables for version v1.0-mini...\n",
      "23 category,\n",
      "8 attribute,\n",
      "4 visibility,\n",
      "911 instance,\n",
      "12 sensor,\n",
      "120 calibrated_sensor,\n",
      "31206 ego_pose,\n",
      "8 log,\n",
      "10 scene,\n",
      "404 sample,\n",
      "31206 sample_data,\n",
      "18538 sample_annotation,\n",
      "4 map,\n",
      "Done loading in 0.795 seconds.\n",
      "======\n",
      "Reverse indexing ...\n",
      "Done reverse indexing in 0.1 seconds.\n",
      "======\n"
     ]
    }
   ],
   "source": [
    "%matplotlib inline\n",
    "from nuscenes.nuscenes import NuScenes\n",
    "\n",
    "nusc = NuScenes(version='v1.0-mini', dataroot='../../../data', verbose=True)"
   ]
  },
  {
   "cell_type": "markdown",
   "metadata": {},
   "source": [
    "## Main program"
   ]
  },
  {
   "cell_type": "markdown",
   "metadata": {},
   "source": [
    "## 1 - Sensor"
   ]
  },
  {
   "cell_type": "markdown",
   "metadata": {},
   "source": [
    "The sensor contains a list of dictionarys with the information of each avaliable sensor on the database"
   ]
  },
  {
   "cell_type": "code",
   "execution_count": 2,
   "metadata": {},
   "outputs": [
    {
     "name": "stdout",
     "output_type": "stream",
     "text": [
      "<class 'list'>\n",
      "<class 'dict'>\n"
     ]
    },
    {
     "data": {
      "text/plain": [
       "[{'token': '725903f5b62f56118f4094b46a4470d8',\n",
       "  'channel': 'CAM_FRONT',\n",
       "  'modality': 'camera'},\n",
       " {'token': 'ce89d4f3050b5892b33b3d328c5e82a3',\n",
       "  'channel': 'CAM_BACK',\n",
       "  'modality': 'camera'},\n",
       " {'token': 'a89643a5de885c6486df2232dc954da2',\n",
       "  'channel': 'CAM_BACK_LEFT',\n",
       "  'modality': 'camera'},\n",
       " {'token': 'ec4b5d41840a509984f7ec36419d4c09',\n",
       "  'channel': 'CAM_FRONT_LEFT',\n",
       "  'modality': 'camera'},\n",
       " {'token': '2f7ad058f1ac5557bf321c7543758f43',\n",
       "  'channel': 'CAM_FRONT_RIGHT',\n",
       "  'modality': 'camera'},\n",
       " {'token': 'ca7dba2ec9f95951bbe67246f7f2c3f7',\n",
       "  'channel': 'CAM_BACK_RIGHT',\n",
       "  'modality': 'camera'},\n",
       " {'token': 'dc8b396651c05aedbb9cdaae573bb567',\n",
       "  'channel': 'LIDAR_TOP',\n",
       "  'modality': 'lidar'},\n",
       " {'token': '47fcd48f71d75e0da5c8c1704a9bfe0a',\n",
       "  'channel': 'RADAR_FRONT',\n",
       "  'modality': 'radar'},\n",
       " {'token': '232a6c4dc628532e81de1c57120876e9',\n",
       "  'channel': 'RADAR_FRONT_RIGHT',\n",
       "  'modality': 'radar'},\n",
       " {'token': '1f69f87a4e175e5ba1d03e2e6d9bcd27',\n",
       "  'channel': 'RADAR_FRONT_LEFT',\n",
       "  'modality': 'radar'},\n",
       " {'token': 'df2d5b8be7be55cca33c8c92384f2266',\n",
       "  'channel': 'RADAR_BACK_LEFT',\n",
       "  'modality': 'radar'},\n",
       " {'token': '5c29dee2f70b528a817110173c2e71b9',\n",
       "  'channel': 'RADAR_BACK_RIGHT',\n",
       "  'modality': 'radar'}]"
      ]
     },
     "execution_count": 2,
     "metadata": {},
     "output_type": "execute_result"
    }
   ],
   "source": [
    "print (type(nusc.sensor))\n",
    "print (type(nusc.sensor[0]))\n",
    "nusc.sensor"
   ]
  },
  {
   "cell_type": "markdown",
   "metadata": {},
   "source": [
    "## 2 - Calibrated Sensor"
   ]
  },
  {
   "cell_type": "markdown",
   "metadata": {},
   "source": [
    "Similar to the sensor, the calibrated_sensor is also a list of dictionarys where each element contains the translation and rotation of each sensor given a specific vehicle."
   ]
  },
  {
   "cell_type": "code",
   "execution_count": 3,
   "metadata": {},
   "outputs": [
    {
     "name": "stdout",
     "output_type": "stream",
     "text": [
      "<class 'list'>\n",
      "<class 'dict'>\n"
     ]
    },
    {
     "data": {
      "text/plain": [
       "{'token': 'f4d2a6c281f34a7eb8bb033d82321f79',\n",
       " 'sensor_token': '47fcd48f71d75e0da5c8c1704a9bfe0a',\n",
       " 'translation': [3.412, 0.0, 0.5],\n",
       " 'rotation': [0.9999984769132877, 0.0, 0.0, 0.0017453283658983088],\n",
       " 'camera_intrinsic': []}"
      ]
     },
     "execution_count": 3,
     "metadata": {},
     "output_type": "execute_result"
    }
   ],
   "source": [
    "print (type(nusc.calibrated_sensor))\n",
    "print (type(nusc.calibrated_sensor[0]))\n",
    "nusc.calibrated_sensor[0]"
   ]
  },
  {
   "cell_type": "markdown",
   "metadata": {},
   "source": [
    "## 3 - Log"
   ]
  },
  {
   "cell_type": "markdown",
   "metadata": {},
   "source": [
    "Each log corresponds to a scene of an specific vehicle along a predefined route.<br>\n",
    "It contains some informations about the vehicle, date and location of the scene."
   ]
  },
  {
   "cell_type": "code",
   "execution_count": 4,
   "metadata": {},
   "outputs": [
    {
     "name": "stdout",
     "output_type": "stream",
     "text": [
      "<class 'list'>\n",
      "<class 'dict'>\n"
     ]
    },
    {
     "data": {
      "text/plain": [
       "{'token': '7e25a2c8ea1f41c5b0da1e69ecfa71a2',\n",
       " 'logfile': 'n015-2018-07-24-11-22-45+0800',\n",
       " 'vehicle': 'n015',\n",
       " 'date_captured': '2018-07-24',\n",
       " 'location': 'singapore-onenorth',\n",
       " 'map_token': '53992ee3023e5494b90c316c183be829'}"
      ]
     },
     "execution_count": 4,
     "metadata": {},
     "output_type": "execute_result"
    }
   ],
   "source": [
    "print (type(nusc.log))\n",
    "print (type(nusc.log[0]))\n",
    "nusc.log[0]"
   ]
  },
  {
   "cell_type": "markdown",
   "metadata": {},
   "source": [
    "## 4 - Map"
   ]
  },
  {
   "cell_type": "markdown",
   "metadata": {},
   "source": [
    "The map is a dictionary with the filename of the map it represents, it also has the log_tokens of all scenes that occur on this map."
   ]
  },
  {
   "cell_type": "code",
   "execution_count": 5,
   "metadata": {},
   "outputs": [
    {
     "name": "stdout",
     "output_type": "stream",
     "text": [
      "<class 'list'>\n",
      "<class 'dict'>\n"
     ]
    },
    {
     "data": {
      "text/plain": [
       "{'category': 'semantic_prior',\n",
       " 'token': '53992ee3023e5494b90c316c183be829',\n",
       " 'filename': 'maps/53992ee3023e5494b90c316c183be829.png',\n",
       " 'log_tokens': ['0986cb758b1d43fdaa051ab23d45582b',\n",
       "  '1c9b302455ff44a9a290c372b31aa3ce',\n",
       "  'e60234ec7c324789ac7c8441a5e49731',\n",
       "  '46123a03f41e4657adc82ed9ddbe0ba2',\n",
       "  'a5bb7f9dd1884f1ea0de299caefe7ef4',\n",
       "  'bc41a49366734ebf978d6a71981537dc',\n",
       "  'f8699afb7a2247e38549e4d250b4581b',\n",
       "  'd0450edaed4a46f898403f45fa9e5f0d',\n",
       "  'f38ef5a1e9c941aabb2155768670b92a',\n",
       "  '7e25a2c8ea1f41c5b0da1e69ecfa71a2',\n",
       "  'ddc03471df3e4c9bb9663629a4097743',\n",
       "  '31e9939f05c1485b88a8f68ad2cf9fa4',\n",
       "  '783683d957054175bda1b326453a13f4',\n",
       "  '343d984344e440c7952d1e403b572b2a',\n",
       "  '92af2609d31445e5a71b2d895376fed6',\n",
       "  '47620afea3c443f6a761e885273cb531',\n",
       "  'd31dc715d1c34b99bd5afb0e3aea26ed',\n",
       "  '34d0574ea8f340179c82162c6ac069bc',\n",
       "  'd7fd2bb9696d43af901326664e42340b',\n",
       "  'b5622d4dcb0d4549b813b3ffb96fbdc9',\n",
       "  'da04ae0b72024818a6219d8dd138ea4b',\n",
       "  '6b6513e6c8384cec88775cae30b78c0e',\n",
       "  'eda311bda86f4e54857b0554639d6426',\n",
       "  'cfe71bf0b5c54aed8f56d4feca9a7f59',\n",
       "  'ee155e99938a4c2698fed50fc5b5d16a',\n",
       "  '700b800c787842ba83493d9b2775234a'],\n",
       " 'mask': <nuscenes.utils.map_mask.MapMask at 0x275d82f5ba0>}"
      ]
     },
     "execution_count": 5,
     "metadata": {},
     "output_type": "execute_result"
    }
   ],
   "source": [
    "print (type(nusc.map))\n",
    "print (type(nusc.map[0]))\n",
    "nusc.map[0]"
   ]
  },
  {
   "cell_type": "markdown",
   "metadata": {},
   "source": [
    "The log contains a parameter that links itself to a map, the map can be reached this way:"
   ]
  },
  {
   "cell_type": "code",
   "execution_count": 6,
   "metadata": {},
   "outputs": [
    {
     "data": {
      "text/plain": [
       "{'category': 'semantic_prior',\n",
       " 'token': '53992ee3023e5494b90c316c183be829',\n",
       " 'filename': 'maps/53992ee3023e5494b90c316c183be829.png',\n",
       " 'log_tokens': ['0986cb758b1d43fdaa051ab23d45582b',\n",
       "  '1c9b302455ff44a9a290c372b31aa3ce',\n",
       "  'e60234ec7c324789ac7c8441a5e49731',\n",
       "  '46123a03f41e4657adc82ed9ddbe0ba2',\n",
       "  'a5bb7f9dd1884f1ea0de299caefe7ef4',\n",
       "  'bc41a49366734ebf978d6a71981537dc',\n",
       "  'f8699afb7a2247e38549e4d250b4581b',\n",
       "  'd0450edaed4a46f898403f45fa9e5f0d',\n",
       "  'f38ef5a1e9c941aabb2155768670b92a',\n",
       "  '7e25a2c8ea1f41c5b0da1e69ecfa71a2',\n",
       "  'ddc03471df3e4c9bb9663629a4097743',\n",
       "  '31e9939f05c1485b88a8f68ad2cf9fa4',\n",
       "  '783683d957054175bda1b326453a13f4',\n",
       "  '343d984344e440c7952d1e403b572b2a',\n",
       "  '92af2609d31445e5a71b2d895376fed6',\n",
       "  '47620afea3c443f6a761e885273cb531',\n",
       "  'd31dc715d1c34b99bd5afb0e3aea26ed',\n",
       "  '34d0574ea8f340179c82162c6ac069bc',\n",
       "  'd7fd2bb9696d43af901326664e42340b',\n",
       "  'b5622d4dcb0d4549b813b3ffb96fbdc9',\n",
       "  'da04ae0b72024818a6219d8dd138ea4b',\n",
       "  '6b6513e6c8384cec88775cae30b78c0e',\n",
       "  'eda311bda86f4e54857b0554639d6426',\n",
       "  'cfe71bf0b5c54aed8f56d4feca9a7f59',\n",
       "  'ee155e99938a4c2698fed50fc5b5d16a',\n",
       "  '700b800c787842ba83493d9b2775234a'],\n",
       " 'mask': <nuscenes.utils.map_mask.MapMask at 0x275d82f5ba0>}"
      ]
     },
     "execution_count": 6,
     "metadata": {},
     "output_type": "execute_result"
    }
   ],
   "source": [
    "map1 = nusc.get('map', nusc.log[0]['map_token'])\n",
    "map1"
   ]
  },
  {
   "cell_type": "markdown",
   "metadata": {},
   "source": [
    "Finally, the map can be used alongside the log to visualize how many egoposes were detected on the specified location:"
   ]
  },
  {
   "cell_type": "code",
   "execution_count": null,
   "metadata": {},
   "outputs": [
    {
     "name": "stdout",
     "output_type": "stream",
     "text": [
      "Adding ego poses to map...\n"
     ]
    },
    {
     "name": "stderr",
     "output_type": "stream",
     "text": [
      "100%|████████████████████████████████████████████████████████████████████████████████████| 3/3 [00:04<00:00,  1.57s/it]\n"
     ]
    },
    {
     "name": "stdout",
     "output_type": "stream",
     "text": [
      "Creating plot...\n"
     ]
    }
   ],
   "source": [
    "nusc.render_egoposes_on_map(log_location='singapore-hollandvillage')"
   ]
  },
  {
   "cell_type": "code",
   "execution_count": null,
   "metadata": {},
   "outputs": [],
   "source": []
  }
 ],
 "metadata": {
  "kernelspec": {
   "display_name": "Python 3 (ipykernel)",
   "language": "python",
   "name": "python3"
  },
  "language_info": {
   "codemirror_mode": {
    "name": "ipython",
    "version": 3
   },
   "file_extension": ".py",
   "mimetype": "text/x-python",
   "name": "python",
   "nbconvert_exporter": "python",
   "pygments_lexer": "ipython3",
   "version": "3.10.11"
  }
 },
 "nbformat": 4,
 "nbformat_minor": 4
}
