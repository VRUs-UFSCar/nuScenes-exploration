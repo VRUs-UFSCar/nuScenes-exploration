{
 "cells": [
  {
   "cell_type": "markdown",
   "metadata": {},
   "source": [
    "# Explorando o modelo Faster R-CNN"
   ]
  },
  {
   "cell_type": "markdown",
   "metadata": {},
   "source": [
    "Neste notebook será tentado treinar o modelo \"Faster R-CNN\" na base de dados NuScenes para detecção de VRUs."
   ]
  },
  {
   "cell_type": "markdown",
   "metadata": {},
   "source": [
    "## Links interessantes"
   ]
  },
  {
   "cell_type": "markdown",
   "metadata": {},
   "source": [
    "As referências abaixo foram utilizadas como base para escrever este notebook"
   ]
  },
  {
   "cell_type": "markdown",
   "metadata": {},
   "source": [
    "**Artigo original do modelo**\n",
    "\n",
    "- [Faster R-CNN: Towards Real-Time Object Detection with Region Proposal Networks](https://arxiv.org/abs/1506.01497)\n",
    "\n",
    "**Implementação do modelo no PyTorch**\n",
    "\n",
    "- [Possíveis implementações do modelo](https://pytorch.org/vision/main/models/faster_rcnn.html)\n",
    "- [Implementação do modelo proposto no paper original](https://pytorch.org/vision/main/models/generated/torchvision.models.detection.fasterrcnn_resnet50_fpn.html#torchvision.models.detection.fasterrcnn_resnet50_fpn)\n",
    "\n",
    "**Tutoriais para treinamento do modelo pelo PyTorch**\n",
    "\n",
    "- [A Simple Pipeline to Train PyTorch Faster RCNN Object Detection Model](https://debuggercafe.com/a-simple-pipeline-to-train-pytorch-faster-rcnn-object-detection-model/)\n",
    "- [Custom Object Detection using PyTorch Faster RCNN](https://debuggercafe.com/custom-object-detection-using-pytorch-faster-rcnn/)"
   ]
  },
  {
   "cell_type": "markdown",
   "metadata": {},
   "source": [
    "## Instalando bibliotecas necessárias"
   ]
  },
  {
   "cell_type": "code",
   "execution_count": 1,
   "metadata": {},
   "outputs": [
    {
     "name": "stdout",
     "output_type": "stream",
     "text": [
      "Note: you may need to restart the kernel to use updated packages.\n"
     ]
    },
    {
     "name": "stderr",
     "output_type": "stream",
     "text": [
      "WARNING: Ignoring invalid distribution -pencv-python (c:\\users\\gregf\\anaconda3\\envs\\vrus-ufscar\\lib\\site-packages)\n",
      "WARNING: Ignoring invalid distribution -pencv-python (c:\\users\\gregf\\anaconda3\\envs\\vrus-ufscar\\lib\\site-packages)\n",
      "WARNING: Ignoring invalid distribution -pencv-python (c:\\users\\gregf\\anaconda3\\envs\\vrus-ufscar\\lib\\site-packages)\n",
      "WARNING: Ignoring invalid distribution -pencv-python (c:\\users\\gregf\\anaconda3\\envs\\vrus-ufscar\\lib\\site-packages)\n",
      "WARNING: Ignoring invalid distribution -pencv-python (c:\\users\\gregf\\anaconda3\\envs\\vrus-ufscar\\lib\\site-packages)\n",
      "WARNING: Ignoring invalid distribution -pencv-python (c:\\users\\gregf\\anaconda3\\envs\\vrus-ufscar\\lib\\site-packages)\n"
     ]
    },
    {
     "name": "stdout",
     "output_type": "stream",
     "text": [
      "Note: you may need to restart the kernel to use updated packages.\n"
     ]
    },
    {
     "name": "stderr",
     "output_type": "stream",
     "text": [
      "WARNING: Ignoring invalid distribution -pencv-python (c:\\users\\gregf\\anaconda3\\envs\\vrus-ufscar\\lib\\site-packages)\n",
      "WARNING: Ignoring invalid distribution -pencv-python (c:\\users\\gregf\\anaconda3\\envs\\vrus-ufscar\\lib\\site-packages)\n",
      "WARNING: Ignoring invalid distribution -pencv-python (c:\\users\\gregf\\anaconda3\\envs\\vrus-ufscar\\lib\\site-packages)\n",
      "WARNING: Ignoring invalid distribution -pencv-python (c:\\users\\gregf\\anaconda3\\envs\\vrus-ufscar\\lib\\site-packages)\n",
      "WARNING: Ignoring invalid distribution -pencv-python (c:\\users\\gregf\\anaconda3\\envs\\vrus-ufscar\\lib\\site-packages)\n",
      "WARNING: Ignoring invalid distribution -pencv-python (c:\\users\\gregf\\anaconda3\\envs\\vrus-ufscar\\lib\\site-packages)\n"
     ]
    },
    {
     "name": "stdout",
     "output_type": "stream",
     "text": [
      "Note: you may need to restart the kernel to use updated packages.\n"
     ]
    },
    {
     "name": "stderr",
     "output_type": "stream",
     "text": [
      "WARNING: Ignoring invalid distribution -pencv-python (c:\\users\\gregf\\anaconda3\\envs\\vrus-ufscar\\lib\\site-packages)\n",
      "WARNING: Ignoring invalid distribution -pencv-python (c:\\users\\gregf\\anaconda3\\envs\\vrus-ufscar\\lib\\site-packages)\n",
      "WARNING: Ignoring invalid distribution -pencv-python (c:\\users\\gregf\\anaconda3\\envs\\vrus-ufscar\\lib\\site-packages)\n",
      "WARNING: Ignoring invalid distribution -pencv-python (c:\\users\\gregf\\anaconda3\\envs\\vrus-ufscar\\lib\\site-packages)\n",
      "WARNING: Ignoring invalid distribution -pencv-python (c:\\users\\gregf\\anaconda3\\envs\\vrus-ufscar\\lib\\site-packages)\n",
      "WARNING: Ignoring invalid distribution -pencv-python (c:\\users\\gregf\\anaconda3\\envs\\vrus-ufscar\\lib\\site-packages)\n",
      "WARNING: Ignoring invalid distribution -pencv-python (c:\\users\\gregf\\anaconda3\\envs\\vrus-ufscar\\lib\\site-packages)\n",
      "WARNING: Ignoring invalid distribution -pencv-python (c:\\users\\gregf\\anaconda3\\envs\\vrus-ufscar\\lib\\site-packages)\n",
      "WARNING: Ignoring invalid distribution -pencv-python (c:\\users\\gregf\\anaconda3\\envs\\vrus-ufscar\\lib\\site-packages)\n",
      "WARNING: Ignoring invalid distribution -pencv-python (c:\\users\\gregf\\anaconda3\\envs\\vrus-ufscar\\lib\\site-packages)\n",
      "WARNING: Ignoring invalid distribution -pencv-python (c:\\users\\gregf\\anaconda3\\envs\\vrus-ufscar\\lib\\site-packages)\n"
     ]
    }
   ],
   "source": [
    "%pip install opencv-python==4.5.4.58 --quiet\n",
    "%pip install nuscenes-devkit --quiet\n",
    "%pip install torch torchvision --quiet"
   ]
  },
  {
   "cell_type": "markdown",
   "metadata": {},
   "source": [
    "## Importando bibliotecas"
   ]
  },
  {
   "cell_type": "code",
   "execution_count": 2,
   "metadata": {},
   "outputs": [],
   "source": [
    "import torch\n",
    "from nuscenes.nuscenes import NuScenes"
   ]
  },
  {
   "cell_type": "markdown",
   "metadata": {},
   "source": [
    "## Fazendo inferências iniciais"
   ]
  },
  {
   "cell_type": "markdown",
   "metadata": {},
   "source": [
    "Antes de tentar treinar o modelo de forma customizada, vamos tentar utilizá-lo para prever os *bounding boxes* a partir do seu treinamento prévio em outra base (COCO)."
   ]
  }
 ],
 "metadata": {
  "kernelspec": {
   "display_name": "VRUs-ufscar",
   "language": "python",
   "name": "python3"
  },
  "language_info": {
   "codemirror_mode": {
    "name": "ipython",
    "version": 3
   },
   "file_extension": ".py",
   "mimetype": "text/x-python",
   "name": "python",
   "nbconvert_exporter": "python",
   "pygments_lexer": "ipython3",
   "version": "3.7.16"
  }
 },
 "nbformat": 4,
 "nbformat_minor": 2
}
